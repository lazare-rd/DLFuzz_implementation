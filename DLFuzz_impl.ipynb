{
  "cells": [
    {
      "cell_type": "code",
      "execution_count": 1,
      "metadata": {
        "colab": {
          "base_uri": "https://localhost:8080/"
        },
        "id": "G8b4rUkcX-Ax",
        "outputId": "0a59decd-e1f8-4ed6-8702-03457000da92"
      },
      "outputs": [
        {
          "name": "stdout",
          "output_type": "stream",
          "text": [
            "Mounted at /content/drive\n"
          ]
        }
      ],
      "source": [
        "import torch\n",
        "import os\n",
        "import sys"
      ]
    },
    {
      "cell_type": "code",
      "execution_count": 2,
      "metadata": {
        "id": "VdmeLMt3Yrhu"
      },
      "outputs": [],
      "source": [
        "import torch.nn as nn\n",
        "import torchvision.datasets as datasets\n",
        "from torchvision.transforms import ToTensor\n",
        "import matplotlib.pyplot as plt\n",
        "import random as rd"
      ]
    },
    {
      "cell_type": "code",
      "execution_count": 3,
      "metadata": {
        "id": "Dm4oJFmhbFf_"
      },
      "outputs": [],
      "source": [
        "def reshape(tensor):\n",
        "  tensor = torch.squeeze(tensor)\n",
        "  tensor = torch.flatten(tensor, 0)\n",
        "\n",
        "  return tensor\n",
        "\n",
        "class DeepNN(nn.Module):\n",
        "\n",
        "  def __init__(self):\n",
        "    super(DeepNN, self).__init__()\n",
        "    self.layers_outputs = []\n",
        "    self.linear_stack = nn.Sequential(\n",
        "        nn.Linear(784, 256),\n",
        "        nn.ReLU(),\n",
        "        nn.Linear(256, 256),\n",
        "        nn.ReLU(),\n",
        "        nn.Linear(256, 128),\n",
        "        nn.ReLU(),\n",
        "        nn.Linear(128, 64),\n",
        "        nn.ReLU(),\n",
        "        nn.Linear(64, 10)\n",
        "    )\n",
        "    self.apply_hooks()\n",
        "\n",
        "\n",
        "\n",
        "  def forward(self, X):\n",
        "    self.layers_outputs.clear()\n",
        "    X = reshape(X)\n",
        "    X = self.linear_stack(X)\n",
        "    return X\n",
        "\n",
        "  def hook_fn(self, module, input, output):\n",
        "    self.layers_outputs.append(output)\n",
        "\n",
        "  def apply_hooks(self):\n",
        "    for i in range(len(self.linear_stack)):\n",
        "      if isinstance(self.linear_stack[i], torch.nn.modules.linear.Linear):\n",
        "        self.linear_stack[i].register_forward_hook(self.hook_fn)\n"
      ]
    },
    {
      "cell_type": "code",
      "execution_count": 4,
      "metadata": {
        "id": "Mx6TIGARkhVw"
      },
      "outputs": [],
      "source": [
        "def predict(dnn, input):\n",
        "  output = dnn.forward(input)\n",
        "  pred = torch.argmax(output, dim = 0)\n",
        "\n",
        "  return pred, output"
      ]
    },
    {
      "cell_type": "code",
      "execution_count": 5,
      "metadata": {
        "colab": {
          "base_uri": "https://localhost:8080/"
        },
        "collapsed": true,
        "id": "iBWGTPZVdIQX",
        "outputId": "4ebc7ac2-65d1-4464-80c0-47c295fcd94a"
      },
      "outputs": [
        {
          "name": "stdout",
          "output_type": "stream",
          "text": [
            "Downloading http://yann.lecun.com/exdb/mnist/train-images-idx3-ubyte.gz\n",
            "Failed to download (trying next):\n",
            "<urlopen error [SSL: CERTIFICATE_VERIFY_FAILED] certificate verify failed: certificate has expired (_ssl.c:1007)>\n",
            "\n",
            "Downloading https://ossci-datasets.s3.amazonaws.com/mnist/train-images-idx3-ubyte.gz\n",
            "Downloading https://ossci-datasets.s3.amazonaws.com/mnist/train-images-idx3-ubyte.gz to ./data/MNIST/raw/train-images-idx3-ubyte.gz\n"
          ]
        },
        {
          "name": "stderr",
          "output_type": "stream",
          "text": [
            "100%|██████████| 9.91M/9.91M [00:00<00:00, 12.8MB/s]\n"
          ]
        },
        {
          "name": "stdout",
          "output_type": "stream",
          "text": [
            "Extracting ./data/MNIST/raw/train-images-idx3-ubyte.gz to ./data/MNIST/raw\n",
            "\n",
            "Downloading http://yann.lecun.com/exdb/mnist/train-labels-idx1-ubyte.gz\n",
            "Failed to download (trying next):\n",
            "<urlopen error [SSL: CERTIFICATE_VERIFY_FAILED] certificate verify failed: certificate has expired (_ssl.c:1007)>\n",
            "\n",
            "Downloading https://ossci-datasets.s3.amazonaws.com/mnist/train-labels-idx1-ubyte.gz\n",
            "Downloading https://ossci-datasets.s3.amazonaws.com/mnist/train-labels-idx1-ubyte.gz to ./data/MNIST/raw/train-labels-idx1-ubyte.gz\n"
          ]
        },
        {
          "name": "stderr",
          "output_type": "stream",
          "text": [
            "100%|██████████| 28.9k/28.9k [00:00<00:00, 346kB/s]\n"
          ]
        },
        {
          "name": "stdout",
          "output_type": "stream",
          "text": [
            "Extracting ./data/MNIST/raw/train-labels-idx1-ubyte.gz to ./data/MNIST/raw\n",
            "\n",
            "Downloading http://yann.lecun.com/exdb/mnist/t10k-images-idx3-ubyte.gz\n",
            "Failed to download (trying next):\n",
            "<urlopen error [SSL: CERTIFICATE_VERIFY_FAILED] certificate verify failed: certificate has expired (_ssl.c:1007)>\n",
            "\n",
            "Downloading https://ossci-datasets.s3.amazonaws.com/mnist/t10k-images-idx3-ubyte.gz\n",
            "Downloading https://ossci-datasets.s3.amazonaws.com/mnist/t10k-images-idx3-ubyte.gz to ./data/MNIST/raw/t10k-images-idx3-ubyte.gz\n"
          ]
        },
        {
          "name": "stderr",
          "output_type": "stream",
          "text": [
            "100%|██████████| 1.65M/1.65M [00:02<00:00, 659kB/s]\n"
          ]
        },
        {
          "name": "stdout",
          "output_type": "stream",
          "text": [
            "Extracting ./data/MNIST/raw/t10k-images-idx3-ubyte.gz to ./data/MNIST/raw\n",
            "\n",
            "Downloading http://yann.lecun.com/exdb/mnist/t10k-labels-idx1-ubyte.gz\n",
            "Failed to download (trying next):\n",
            "<urlopen error [SSL: CERTIFICATE_VERIFY_FAILED] certificate verify failed: certificate has expired (_ssl.c:1007)>\n",
            "\n",
            "Downloading https://ossci-datasets.s3.amazonaws.com/mnist/t10k-labels-idx1-ubyte.gz\n",
            "Downloading https://ossci-datasets.s3.amazonaws.com/mnist/t10k-labels-idx1-ubyte.gz to ./data/MNIST/raw/t10k-labels-idx1-ubyte.gz\n"
          ]
        },
        {
          "name": "stderr",
          "output_type": "stream",
          "text": [
            "100%|██████████| 4.54k/4.54k [00:00<00:00, 7.98MB/s]"
          ]
        },
        {
          "name": "stdout",
          "output_type": "stream",
          "text": [
            "Extracting ./data/MNIST/raw/t10k-labels-idx1-ubyte.gz to ./data/MNIST/raw\n",
            "\n"
          ]
        },
        {
          "name": "stderr",
          "output_type": "stream",
          "text": [
            "\n"
          ]
        }
      ],
      "source": [
        "test_dataset = datasets.MNIST(root='./data', train=False, download=True, transform=ToTensor())"
      ]
    },
    {
      "cell_type": "code",
      "execution_count": 61,
      "metadata": {
        "colab": {
          "base_uri": "https://localhost:8080/"
        },
        "id": "sJd5_qCjd1CX",
        "outputId": "5111c232-e6f2-4f5d-e9f9-c355b16ce168"
      },
      "outputs": [
        {
          "name": "stdout",
          "output_type": "stream",
          "text": [
            "10000\n",
            "<class 'tuple'>\n",
            "<class 'torch.Tensor'>\n",
            "<class 'int'>\n",
            "torch.Size([1, 28, 28])\n",
            "torch.Size([784])\n"
          ]
        }
      ],
      "source": [
        "def show_data(tensor):\n",
        "  tensor = tensor.clone().detach().requires_grad_(False)\n",
        "  tensor = torch.squeeze(tensor)\n",
        "  plt.imshow(tensor)\n",
        "\n",
        "tensor = test_dataset[0][0]\n",
        "\n",
        "print(len(test_dataset))\n",
        "print(type(test_dataset[0]))\n",
        "print(type(test_dataset[0][0]))\n",
        "print(type(test_dataset[0][1]))\n",
        "print(tensor.shape)\n",
        "print(reshape(tensor).shape)"
      ]
    },
    {
      "cell_type": "code",
      "execution_count": 7,
      "metadata": {
        "id": "hdqvLeFWmDmt"
      },
      "outputs": [],
      "source": [
        "class CovTracker():\n",
        "\n",
        "  def __init__(self, dnn):\n",
        "    self.dnn = dnn\n",
        "    self.cov_tracker = []\n",
        "    self.coverage = 0\n",
        "\n",
        "  def selection(self, strategie, m):\n",
        "    sum = 0\n",
        "    for layer_output in self.dnn.layers_outputs:\n",
        "      match strategie:\n",
        "\n",
        "        case 1: # select the m highest weighted outputs\n",
        "          t, indices = torch.topk(layer_output, m)\n",
        "          sum += torch.sum(t)\n",
        "          self.cov_tracker.append(t)\n",
        "        case 2: # select the m closest to threshold outputs (in this case we use ReLU so treshold equals to 0)\n",
        "          layer_output_abs = torch.abs(layer_output)\n",
        "          t, indices = torch.topk(layer_output_abs, m, largest=False)\n",
        "          sum += torch.sum(t)\n",
        "          self.cov_tracker.append(t)\n",
        "\n",
        "    return sum\n",
        "\n",
        "\n",
        "    def get_coverage(self):\n",
        "      pass\n"
      ]
    },
    {
      "cell_type": "code",
      "execution_count": 53,
      "metadata": {
        "id": "RoqZkt5cgaVa"
      },
      "outputs": [],
      "source": [
        "def Mutation(input_l, dnn, k, m, strategies, lamda, cov_tracker, iter_time, eta, gamma):\n",
        "\n",
        "  adversarial_set = []\n",
        "  for x in input_l:\n",
        "\n",
        "    seed_list = [x]\n",
        "\n",
        "    while len(seed_list) > 0:\n",
        "\n",
        "      x_s, label = seed_list.pop(0)\n",
        "      pred, output = predict(dnn, x_s)\n",
        "      pred_topk, indices = torch.topk(output, k)\n",
        "      sum_neurons = cov_tracker.selection(strategies, m)\n",
        "      obj = (torch.sum(pred_topk) - label) + (lamda * sum_neurons)\n",
        "      obj.backward()\n",
        "      grads = x_s.grad\n",
        "\n",
        "      for i in range(iter_time):\n",
        "\n",
        "        x_bis = x_s + gamma * grads\n",
        "        pred_bis, output = predict(dnn, x_bis)\n",
        "        sum_neurons_bis = cov_tracker.selection(strategies, m)\n",
        "        L2_dist = torch.linalg.norm(x_s - x_bis)\n",
        "\n",
        "        if sum_neurons_bis - sum_neurons > 0 and L2_dist < eta:\n",
        "          seed_list.append((x_bis, label))\n",
        "          sum_neurons = sum_neurons_bis\n",
        "\n",
        "        if pred_bis != label:\n",
        "           adversarial_set.append(x_bis)\n",
        "           break\n",
        "\n",
        "  return adversarial_set"
      ]
    },
    {
      "attachments": {},
      "cell_type": "markdown",
      "metadata": {
        "id": "7A5sNe6lgQyi"
      },
      "source": [
        "# Let's fetch our already trained model"
      ]
    },
    {
      "cell_type": "code",
      "execution_count": 9,
      "metadata": {
        "colab": {
          "base_uri": "https://localhost:8080/"
        },
        "id": "DfNcnP6Yq_C6",
        "outputId": "f42f1455-3e0b-4ee2-c89b-3b748450aac8"
      },
      "outputs": [
        {
          "name": "stderr",
          "output_type": "stream",
          "text": [
            "<ipython-input-9-1ea72087e564>:4: FutureWarning: You are using `torch.load` with `weights_only=False` (the current default value), which uses the default pickle module implicitly. It is possible to construct malicious pickle data which will execute arbitrary code during unpickling (See https://github.com/pytorch/pytorch/blob/main/SECURITY.md#untrusted-models for more details). In a future release, the default value for `weights_only` will be flipped to `True`. This limits the functions that could be executed during unpickling. Arbitrary objects will no longer be allowed to be loaded via this mode unless they are explicitly allowlisted by the user via `torch.serialization.add_safe_globals`. We recommend you start setting `weights_only=True` for any use case where you don't have full control of the loaded file. Please open an issue on GitHub for any issues related to this experimental feature.\n",
            "  dnn.load_state_dict(torch.load(path))\n"
          ]
        },
        {
          "data": {
            "text/plain": [
              "DeepNN(\n",
              "  (linear_stack): Sequential(\n",
              "    (0): Linear(in_features=784, out_features=256, bias=True)\n",
              "    (1): ReLU()\n",
              "    (2): Linear(in_features=256, out_features=256, bias=True)\n",
              "    (3): ReLU()\n",
              "    (4): Linear(in_features=256, out_features=128, bias=True)\n",
              "    (5): ReLU()\n",
              "    (6): Linear(in_features=128, out_features=64, bias=True)\n",
              "    (7): ReLU()\n",
              "    (8): Linear(in_features=64, out_features=10, bias=True)\n",
              "  )\n",
              ")"
            ]
          },
          "execution_count": 9,
          "metadata": {},
          "output_type": "execute_result"
        }
      ],
      "source": [
        "dnn = DeepNN()\n",
        "cwd = os.getcwd()\n",
        "path = f\"{cwd}/models/model_DeepDNN_MNIST.pt\"\n",
        "dnn.load_state_dict(torch.load(path))\n",
        "dnn.eval()"
      ]
    },
    {
      "attachments": {},
      "cell_type": "markdown",
      "metadata": {
        "id": "vHt3uE85gKJp"
      },
      "source": [
        "# Check our predict function"
      ]
    },
    {
      "cell_type": "code",
      "execution_count": 20,
      "metadata": {
        "colab": {
          "base_uri": "https://localhost:8080/",
          "height": 447
        },
        "collapsed": true,
        "id": "uI7v6uCudibz",
        "outputId": "4658a1bb-d0a6-4e14-f156-edb377b8b5d2"
      },
      "outputs": [
        {
          "name": "stdout",
          "output_type": "stream",
          "text": [
            "tensor(3)\n"
          ]
        },
        {
          "data": {
            "image/png": "[encoded data removed]",
            "text/plain": [
              "<Figure size 640x480 with 1 Axes>"
            ]
          },
          "metadata": {},
          "output_type": "display_data"
        }
      ],
      "source": [
        "random_tensor = test_dataset[rd.randint(0, 10000)][0]\n",
        "\n",
        "pred, output = predict(dnn, random_tensor)\n",
        "print(pred)\n",
        "show_data(random_tensor)"
      ]
    },
    {
      "attachments": {},
      "cell_type": "markdown",
      "metadata": {
        "id": "fEjuIDqv3rj4"
      },
      "source": [
        "# Adversarial inputs generation"
      ]
    },
    {
      "cell_type": "code",
      "execution_count": 60,
      "metadata": {
        "id": "jqz_Q9LN76u5"
      },
      "outputs": [],
      "source": [
        "\"\"\" Modify the dataset to allow gradient coverage on the inputs \"\"\"\n",
        "\n",
        "def reshape_dataset(dataset, k):\n",
        "  dataset_reshaped = []\n",
        "  for i in range(k):\n",
        "    dataset_reshaped.append((dataset[i][0].clone().detach().requires_grad_(True), dataset[i][1]))\n",
        "  return dataset_reshaped"
      ]
    },
    {
      "cell_type": "code",
      "execution_count": 54,
      "metadata": {
        "id": "kxZHbefj3mAI"
      },
      "outputs": [],
      "source": [
        "cov_tracker = CovTracker(dnn)\n",
        "dataset = reshape_dataset(test_dataset, 1000)\n",
        "\n",
        "lamda = 0.01 # how much neuron coverage is taken into acount in the Loss function\n",
        "eta = 0.002 # distance treshold between adversarial_n-1 and adversarial_n\n",
        "gamma = 0.002 # gradient step\n",
        "k = 3 # top k outputs\n",
        "m = 10 # Iterations\n",
        "\n",
        "\"\"\" Generate the adversarial set \"\"\"\n",
        "adversarial_set = Mutation(dataset, dnn, k, m, 1, lamda, cov_tracker, 4, eta, gamma)"
      ]
    },
    {
      "cell_type": "code",
      "execution_count": 55,
      "metadata": {
        "colab": {
          "base_uri": "https://localhost:8080/"
        },
        "id": "1uj0accLoWKY",
        "outputId": "182cfbe0-fe44-4ddf-b27f-98c7bafc011e"
      },
      "outputs": [
        {
          "name": "stdout",
          "output_type": "stream",
          "text": [
            "47\n"
          ]
        }
      ],
      "source": [
        "print(len(adversarial_set))"
      ]
    },
    {
      "cell_type": "code",
      "execution_count": 88,
      "metadata": {
        "colab": {
          "base_uri": "https://localhost:8080/",
          "height": 447
        },
        "id": "9aCgIKMEoanc",
        "outputId": "9852c93f-98f4-481f-acde-29517058eb0c"
      },
      "outputs": [
        {
          "name": "stdout",
          "output_type": "stream",
          "text": [
            "tensor(0)\n"
          ]
        },
        {
          "data": {
            "image/png": "[encoded data removed]",
            "text/plain": [
              "<Figure size 640x480 with 1 Axes>"
            ]
          },
          "metadata": {},
          "output_type": "display_data"
        }
      ],
      "source": [
        "random_adv = adversarial_set[rd.randint(0, len(adversarial_set))]\n",
        "pred, output = predict(dnn, random_adv)\n",
        "print(pred)\n",
        "show_data(random_adv)"
      ]
    }
  ],
  "metadata": {
    "colab": {
      "provenance": []
    },
    "kernelspec": {
      "display_name": "Python 3",
      "name": "python3"
    },
    "language_info": {
      "name": "python"
    }
  },
  "nbformat": 4,
  "nbformat_minor": 0
}
